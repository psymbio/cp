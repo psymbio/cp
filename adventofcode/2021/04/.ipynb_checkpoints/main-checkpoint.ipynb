{
 "cells": [
  {
   "cell_type": "code",
   "execution_count": 1,
   "id": "5d6df2e4",
   "metadata": {},
   "outputs": [
    {
     "name": "stdout",
     "output_type": "stream",
     "text": [
      "1 : \n",
      "\n",
      "2 : 22 13 17 11  0\n",
      "\n",
      "3 :  8  2 23  4 24\n",
      "\n",
      "4 : 21  9 14 16  7\n",
      "\n",
      "5 :  6 10  3 18  5\n",
      "\n",
      "6 :  1 12 20 15 19\n",
      "\n",
      "7 : \n",
      "\n",
      "8 :  3 15  0  2 22\n",
      "\n",
      "9 :  9 18 13 17  5\n",
      "\n",
      "10 : 19  8  7 25 23\n",
      "\n",
      "11 : 20 11 10 24  4\n",
      "\n",
      "12 : 14 21 16 12  6\n",
      "\n",
      "13 : \n",
      "\n",
      "14 : 14 21 17 24  4\n",
      "\n",
      "15 : 10 16 15  9 19\n",
      "\n",
      "16 : 18  8 23 26 20\n",
      "\n",
      "17 : 22 11 13  6  5\n",
      "\n",
      "18 :  2  0 12  3  7\n"
     ]
    }
   ],
   "source": [
    "input_file_name = \"input2.txt\"\n",
    "line_index = 0\n",
    "board_game_index = 0\n",
    "board_game_line = 0\n",
    "board_games = {}\n",
    "import numpy as np\n",
    "\n",
    "with open(input_file_name, 'r') as f:\n",
    "    for line in f:\n",
    "        if line_index == 0:\n",
    "            first_line = line.rstrip('\\n').split(\",\")\n",
    "        else:\n",
    "            if(board_game_line == 0):\n",
    "                board_games[board_game_index] = line.rstrip('\\n').split(\" \")\n",
    "                print(line_index,\":\", line)\n",
    "                board_game_line += 1\n",
    "            else:\n",
    "                board_games[board_game_index] += line.rstrip('\\n').split(\" \")\n",
    "                print(line_index,\":\", line)\n",
    "                board_game_line += 1\n",
    "                if(board_game_line == 6):\n",
    "                    board_game_line = 0\n",
    "                    board_game_index += 1\n",
    "        line_index += 1"
   ]
  },
  {
   "cell_type": "code",
   "execution_count": 2,
   "id": "07dce7e2",
   "metadata": {},
   "outputs": [
    {
     "name": "stdout",
     "output_type": "stream",
     "text": [
      "{0: ['', '22', '13', '17', '11', '', '0', '', '8', '', '2', '23', '', '4', '24', '21', '', '9', '14', '16', '', '7', '', '6', '10', '', '3', '18', '', '5', '', '1', '12', '20', '15', '19'], 1: ['', '', '3', '15', '', '0', '', '2', '22', '', '9', '18', '13', '17', '', '5', '19', '', '8', '', '7', '25', '23', '20', '11', '10', '24', '', '4', '14', '21', '16', '12', '', '6'], 2: ['', '14', '21', '17', '24', '', '4', '10', '16', '15', '', '9', '19', '18', '', '8', '23', '26', '20', '22', '11', '13', '', '6', '', '5', '', '2', '', '0', '12', '', '3', '', '7']}\n"
     ]
    }
   ],
   "source": [
    "print(board_games)"
   ]
  },
  {
   "cell_type": "code",
   "execution_count": 3,
   "id": "93d7f125",
   "metadata": {},
   "outputs": [
    {
     "name": "stdout",
     "output_type": "stream",
     "text": [
      "[7, 4, 9, 5, 11, 17, 23, 2, 0, 14, 21, 24, 10, 16, 13, 6, 15, 25, 12, 22, 18, 20, 8, 19, 3, 26, 1]\n"
     ]
    }
   ],
   "source": [
    "first_line = [int(i) for i in first_line]\n",
    "print(first_line)"
   ]
  },
  {
   "cell_type": "code",
   "execution_count": 4,
   "id": "deed09fc",
   "metadata": {},
   "outputs": [],
   "source": [
    "for board_game in board_games:\n",
    "    while('' in board_games[board_game]):\n",
    "        board_games[board_game].remove('')"
   ]
  },
  {
   "cell_type": "code",
   "execution_count": 5,
   "id": "8137e293",
   "metadata": {},
   "outputs": [
    {
     "name": "stdout",
     "output_type": "stream",
     "text": [
      "25\n",
      "25\n",
      "25\n"
     ]
    }
   ],
   "source": [
    "for board_game in board_games:\n",
    "    print(len(board_games[board_game]))"
   ]
  },
  {
   "cell_type": "code",
   "execution_count": 6,
   "id": "c97d43da",
   "metadata": {},
   "outputs": [
    {
     "name": "stdout",
     "output_type": "stream",
     "text": [
      "{0: ['22', '13', '17', '11', '0', '8', '2', '23', '4', '24', '21', '9', '14', '16', '7', '6', '10', '3', '18', '5', '1', '12', '20', '15', '19'], 1: ['3', '15', '0', '2', '22', '9', '18', '13', '17', '5', '19', '8', '7', '25', '23', '20', '11', '10', '24', '4', '14', '21', '16', '12', '6'], 2: ['14', '21', '17', '24', '4', '10', '16', '15', '9', '19', '18', '8', '23', '26', '20', '22', '11', '13', '6', '5', '2', '0', '12', '3', '7']}\n"
     ]
    }
   ],
   "source": [
    "print(board_games)"
   ]
  },
  {
   "cell_type": "code",
   "execution_count": 7,
   "id": "713723e4",
   "metadata": {},
   "outputs": [],
   "source": [
    "for board_game in board_games:\n",
    "    board_games[board_game] = np.array([int(i) for i in board_games[board_game]]).reshape(5,5)"
   ]
  },
  {
   "cell_type": "code",
   "execution_count": 8,
   "id": "e530e500",
   "metadata": {},
   "outputs": [
    {
     "name": "stdout",
     "output_type": "stream",
     "text": [
      "{0: array([[22, 13, 17, 11,  0],\n",
      "       [ 8,  2, 23,  4, 24],\n",
      "       [21,  9, 14, 16,  7],\n",
      "       [ 6, 10,  3, 18,  5],\n",
      "       [ 1, 12, 20, 15, 19]]), 1: array([[ 3, 15,  0,  2, 22],\n",
      "       [ 9, 18, 13, 17,  5],\n",
      "       [19,  8,  7, 25, 23],\n",
      "       [20, 11, 10, 24,  4],\n",
      "       [14, 21, 16, 12,  6]]), 2: array([[14, 21, 17, 24,  4],\n",
      "       [10, 16, 15,  9, 19],\n",
      "       [18,  8, 23, 26, 20],\n",
      "       [22, 11, 13,  6,  5],\n",
      "       [ 2,  0, 12,  3,  7]])}\n"
     ]
    }
   ],
   "source": [
    "print(board_games)"
   ]
  },
  {
   "cell_type": "code",
   "execution_count": 9,
   "id": "0459f111",
   "metadata": {},
   "outputs": [],
   "source": [
    "def check_for_win():\n",
    "    for board_game in board_games:\n",
    "        row_sum = 0\n",
    "        col_sum = 0\n",
    "        for i in range(5):\n",
    "            row_sum = 0\n",
    "            for j in range(5):\n",
    "                row_sum += board_games[board_game][i][j]\n",
    "            print(\"row at:\",i,\"sum=\", row_sum,  board_games[board_game][i])\n",
    "            if (row_sum == -5):\n",
    "                return True, board_game\n",
    "        for i in range(5):\n",
    "            col_sum = 0\n",
    "            for j in range(5):\n",
    "                col_sum += board_games[board_game][j][i]\n",
    "            print(\"col at:\",i,\"sum=\", col_sum)\n",
    "            if (col_sum == -5):\n",
    "                return True, board_game\n",
    "    return False"
   ]
  },
  {
   "cell_type": "code",
   "execution_count": 10,
   "id": "d6041c5d",
   "metadata": {},
   "outputs": [
    {
     "name": "stdout",
     "output_type": "stream",
     "text": [
      "row at: 0 sum= 63 [22 13 17 11  0]\n",
      "row at: 1 sum= 61 [ 8  2 23  4 24]\n",
      "row at: 2 sum= 67 [21  9 14 16  7]\n",
      "row at: 3 sum= 42 [ 6 10  3 18  5]\n",
      "row at: 4 sum= 67 [ 1 12 20 15 19]\n",
      "col at: 0 sum= 58\n",
      "col at: 1 sum= 46\n",
      "col at: 2 sum= 77\n",
      "col at: 3 sum= 64\n",
      "col at: 4 sum= 55\n",
      "no winners\n",
      "row at: 0 sum= 63 [22 13 17 11  0]\n",
      "row at: 1 sum= 61 [ 8  2 23  4 24]\n",
      "row at: 2 sum= 59 [21  9 14 16 -1]\n",
      "row at: 3 sum= 42 [ 6 10  3 18  5]\n",
      "row at: 4 sum= 67 [ 1 12 20 15 19]\n",
      "col at: 0 sum= 58\n",
      "col at: 1 sum= 46\n",
      "col at: 2 sum= 77\n",
      "col at: 3 sum= 64\n",
      "col at: 4 sum= 47\n",
      "no winners\n",
      "row at: 0 sum= 63 [22 13 17 11  0]\n",
      "row at: 1 sum= 56 [ 8  2 23 -1 24]\n",
      "row at: 2 sum= 59 [21  9 14 16 -1]\n",
      "row at: 3 sum= 42 [ 6 10  3 18  5]\n",
      "row at: 4 sum= 67 [ 1 12 20 15 19]\n",
      "col at: 0 sum= 58\n",
      "col at: 1 sum= 46\n",
      "col at: 2 sum= 77\n",
      "col at: 3 sum= 59\n",
      "col at: 4 sum= 47\n",
      "no winners\n",
      "row at: 0 sum= 63 [22 13 17 11  0]\n",
      "row at: 1 sum= 56 [ 8  2 23 -1 24]\n",
      "row at: 2 sum= 49 [21 -1 14 16 -1]\n",
      "row at: 3 sum= 42 [ 6 10  3 18  5]\n",
      "row at: 4 sum= 67 [ 1 12 20 15 19]\n",
      "col at: 0 sum= 58\n",
      "col at: 1 sum= 36\n",
      "col at: 2 sum= 77\n",
      "col at: 3 sum= 59\n",
      "col at: 4 sum= 47\n",
      "no winners\n",
      "row at: 0 sum= 63 [22 13 17 11  0]\n",
      "row at: 1 sum= 56 [ 8  2 23 -1 24]\n",
      "row at: 2 sum= 49 [21 -1 14 16 -1]\n",
      "row at: 3 sum= 36 [ 6 10  3 18 -1]\n",
      "row at: 4 sum= 67 [ 1 12 20 15 19]\n",
      "col at: 0 sum= 58\n",
      "col at: 1 sum= 36\n",
      "col at: 2 sum= 77\n",
      "col at: 3 sum= 59\n",
      "col at: 4 sum= 41\n",
      "no winners\n",
      "row at: 0 sum= 51 [22 13 17 -1  0]\n",
      "row at: 1 sum= 56 [ 8  2 23 -1 24]\n",
      "row at: 2 sum= 49 [21 -1 14 16 -1]\n",
      "row at: 3 sum= 36 [ 6 10  3 18 -1]\n",
      "row at: 4 sum= 67 [ 1 12 20 15 19]\n",
      "col at: 0 sum= 58\n",
      "col at: 1 sum= 36\n",
      "col at: 2 sum= 77\n",
      "col at: 3 sum= 47\n",
      "col at: 4 sum= 41\n",
      "no winners\n",
      "row at: 0 sum= 33 [22 13 -1 -1  0]\n",
      "row at: 1 sum= 56 [ 8  2 23 -1 24]\n",
      "row at: 2 sum= 49 [21 -1 14 16 -1]\n",
      "row at: 3 sum= 36 [ 6 10  3 18 -1]\n",
      "row at: 4 sum= 67 [ 1 12 20 15 19]\n",
      "col at: 0 sum= 58\n",
      "col at: 1 sum= 36\n",
      "col at: 2 sum= 59\n",
      "col at: 3 sum= 47\n",
      "col at: 4 sum= 41\n",
      "no winners\n",
      "row at: 0 sum= 33 [22 13 -1 -1  0]\n",
      "row at: 1 sum= 32 [ 8  2 -1 -1 24]\n",
      "row at: 2 sum= 49 [21 -1 14 16 -1]\n",
      "row at: 3 sum= 36 [ 6 10  3 18 -1]\n",
      "row at: 4 sum= 67 [ 1 12 20 15 19]\n",
      "col at: 0 sum= 58\n",
      "col at: 1 sum= 36\n",
      "col at: 2 sum= 35\n",
      "col at: 3 sum= 47\n",
      "col at: 4 sum= 41\n",
      "no winners\n",
      "row at: 0 sum= 33 [22 13 -1 -1  0]\n",
      "row at: 1 sum= 29 [ 8 -1 -1 -1 24]\n",
      "row at: 2 sum= 49 [21 -1 14 16 -1]\n",
      "row at: 3 sum= 36 [ 6 10  3 18 -1]\n",
      "row at: 4 sum= 67 [ 1 12 20 15 19]\n",
      "col at: 0 sum= 58\n",
      "col at: 1 sum= 33\n",
      "col at: 2 sum= 35\n",
      "col at: 3 sum= 47\n",
      "col at: 4 sum= 41\n",
      "no winners\n",
      "row at: 0 sum= 32 [22 13 -1 -1 -1]\n",
      "row at: 1 sum= 29 [ 8 -1 -1 -1 24]\n",
      "row at: 2 sum= 49 [21 -1 14 16 -1]\n",
      "row at: 3 sum= 36 [ 6 10  3 18 -1]\n",
      "row at: 4 sum= 67 [ 1 12 20 15 19]\n",
      "col at: 0 sum= 58\n",
      "col at: 1 sum= 33\n",
      "col at: 2 sum= 35\n",
      "col at: 3 sum= 47\n",
      "col at: 4 sum= 40\n",
      "no winners\n",
      "row at: 0 sum= 32 [22 13 -1 -1 -1]\n",
      "row at: 1 sum= 29 [ 8 -1 -1 -1 24]\n",
      "row at: 2 sum= 34 [21 -1 -1 16 -1]\n",
      "row at: 3 sum= 36 [ 6 10  3 18 -1]\n",
      "row at: 4 sum= 67 [ 1 12 20 15 19]\n",
      "col at: 0 sum= 58\n",
      "col at: 1 sum= 33\n",
      "col at: 2 sum= 20\n",
      "col at: 3 sum= 47\n",
      "col at: 4 sum= 40\n",
      "no winners\n",
      "row at: 0 sum= 32 [22 13 -1 -1 -1]\n",
      "row at: 1 sum= 29 [ 8 -1 -1 -1 24]\n",
      "row at: 2 sum= 12 [-1 -1 -1 16 -1]\n",
      "row at: 3 sum= 36 [ 6 10  3 18 -1]\n",
      "row at: 4 sum= 67 [ 1 12 20 15 19]\n",
      "col at: 0 sum= 36\n",
      "col at: 1 sum= 33\n",
      "col at: 2 sum= 20\n",
      "col at: 3 sum= 47\n",
      "col at: 4 sum= 40\n",
      "no winners\n",
      "row at: 0 sum= 32 [22 13 -1 -1 -1]\n",
      "row at: 1 sum= 4 [ 8 -1 -1 -1 -1]\n",
      "row at: 2 sum= 12 [-1 -1 -1 16 -1]\n",
      "row at: 3 sum= 36 [ 6 10  3 18 -1]\n",
      "row at: 4 sum= 67 [ 1 12 20 15 19]\n",
      "col at: 0 sum= 36\n",
      "col at: 1 sum= 33\n",
      "col at: 2 sum= 20\n",
      "col at: 3 sum= 47\n",
      "col at: 4 sum= 15\n",
      "no winners\n",
      "row at: 0 sum= 32 [22 13 -1 -1 -1]\n",
      "row at: 1 sum= 4 [ 8 -1 -1 -1 -1]\n",
      "row at: 2 sum= 12 [-1 -1 -1 16 -1]\n",
      "row at: 3 sum= 25 [ 6 -1  3 18 -1]\n",
      "row at: 4 sum= 67 [ 1 12 20 15 19]\n",
      "col at: 0 sum= 36\n",
      "col at: 1 sum= 22\n",
      "col at: 2 sum= 20\n",
      "col at: 3 sum= 47\n",
      "col at: 4 sum= 15\n",
      "no winners\n",
      "row at: 0 sum= 32 [22 13 -1 -1 -1]\n",
      "row at: 1 sum= 4 [ 8 -1 -1 -1 -1]\n",
      "row at: 2 sum= -5 [-1 -1 -1 -1 -1]\n",
      "Found a winner player 0 after playing 15\n"
     ]
    }
   ],
   "source": [
    "breaker = False\n",
    "moves_played = 0\n",
    "for number_called in first_line:\n",
    "    moves_played += 1\n",
    "    try:\n",
    "        check_win, winning_person = check_for_win()\n",
    "        if check_win == True:\n",
    "            print(\"Found a winner player\", winning_person, \"after playing\", moves_played)\n",
    "            break\n",
    "    except:\n",
    "        print(\"no winners\")\n",
    "    for board_game in board_games:\n",
    "        for current_line in board_games[board_game]:\n",
    "            for index, value in enumerate(current_line):\n",
    "                if current_line[index] == number_called:\n",
    "                    current_line[index] = -1\n",
    "                # print(board_games)"
   ]
  },
  {
   "cell_type": "code",
   "execution_count": 11,
   "id": "25cf9c01",
   "metadata": {},
   "outputs": [
    {
     "name": "stdout",
     "output_type": "stream",
     "text": [
      "{0: array([[22, 13, -1, -1, -1],\n",
      "       [ 8, -1, -1, -1, -1],\n",
      "       [-1, -1, -1, -1, -1],\n",
      "       [ 6, -1,  3, 18, -1],\n",
      "       [ 1, 12, 20, 15, 19]]), 1: array([[ 3, 15, -1, -1, 22],\n",
      "       [-1, 18, 13, -1, -1],\n",
      "       [19,  8, -1, 25, -1],\n",
      "       [20, -1, -1, -1, -1],\n",
      "       [-1, -1, -1, 12,  6]]), 2: array([[-1, -1, -1, -1, -1],\n",
      "       [-1, -1, 15, -1, 19],\n",
      "       [18,  8, -1, 26, 20],\n",
      "       [22, -1, 13,  6, -1],\n",
      "       [-1, -1, 12,  3, -1]])}\n"
     ]
    }
   ],
   "source": [
    "print(board_games)"
   ]
  },
  {
   "cell_type": "code",
   "execution_count": null,
   "id": "ff8d1278",
   "metadata": {},
   "outputs": [],
   "source": []
  }
 ],
 "metadata": {
  "kernelspec": {
   "display_name": "Python 3",
   "language": "python",
   "name": "python3"
  },
  "language_info": {
   "codemirror_mode": {
    "name": "ipython",
    "version": 3
   },
   "file_extension": ".py",
   "mimetype": "text/x-python",
   "name": "python",
   "nbconvert_exporter": "python",
   "pygments_lexer": "ipython3",
   "version": "3.9.2"
  }
 },
 "nbformat": 4,
 "nbformat_minor": 5
}
