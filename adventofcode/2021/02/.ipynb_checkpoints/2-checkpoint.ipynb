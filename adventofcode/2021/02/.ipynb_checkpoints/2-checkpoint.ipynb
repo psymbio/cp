{
 "cells": [
  {
   "cell_type": "code",
   "execution_count": 1,
   "id": "515aad4a",
   "metadata": {},
   "outputs": [],
   "source": [
    "with open('input.txt') as f:\n",
    "    lines = f.readlines()"
   ]
  },
  {
   "cell_type": "code",
   "execution_count": 4,
   "id": "f7ea6d95",
   "metadata": {},
   "outputs": [],
   "source": [
    "horizontal_position = 0\n",
    "depth = 0\n",
    "for line in lines:\n",
    "    line_split = line.split(\" \")\n",
    "    if line_split[0] == \"forward\":\n",
    "        horizontal_position += int(line_split[1])\n",
    "    elif line_split[0] == \"up\":\n",
    "        depth -= int(line_split[1])\n",
    "    elif line_split[0] == \"down\":\n",
    "        depth += int(line_split[1])"
   ]
  },
  {
   "cell_type": "code",
   "execution_count": 5,
   "id": "47ede8fb",
   "metadata": {},
   "outputs": [
    {
     "name": "stdout",
     "output_type": "stream",
     "text": [
      "1989014\n"
     ]
    }
   ],
   "source": [
    "print(horizontal_position * depth)"
   ]
  },
  {
   "cell_type": "code",
   "execution_count": null,
   "id": "aa59d6b1",
   "metadata": {},
   "outputs": [],
   "source": [
    "horizontal_position = 0\n",
    "depth = 0\n",
    "aim = 0\n",
    "for line in lines:\n",
    "    line_split = line.split(\" \")\n",
    "    if line_split[0] == \"forward\":\n",
    "        # horizontal_position += int(line_split[1])\n",
    "    elif line_split[0] == \"up\":\n",
    "        # depth -= int(line_split[1])\n",
    "        aim -= int(line_split[1])\n",
    "    elif line_split[0] == \"down\":\n",
    "        # depth += int(line_split[1])\n",
    "        aim += int(line_split[1])"
   ]
  }
 ],
 "metadata": {
  "kernelspec": {
   "display_name": "Python 3",
   "language": "python",
   "name": "python3"
  },
  "language_info": {
   "codemirror_mode": {
    "name": "ipython",
    "version": 3
   },
   "file_extension": ".py",
   "mimetype": "text/x-python",
   "name": "python",
   "nbconvert_exporter": "python",
   "pygments_lexer": "ipython3",
   "version": "3.9.2"
  }
 },
 "nbformat": 4,
 "nbformat_minor": 5
}
