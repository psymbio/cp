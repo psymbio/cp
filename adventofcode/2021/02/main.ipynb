{
 "cells": [
  {
   "cell_type": "code",
   "execution_count": 1,
   "id": "62526186",
   "metadata": {},
   "outputs": [],
   "source": [
    "with open('input.txt') as f:\n",
    "    lines = f.readlines()"
   ]
  },
  {
   "cell_type": "code",
   "execution_count": 4,
   "id": "905387fa",
   "metadata": {},
   "outputs": [],
   "source": [
    "horizontal_position = 0\n",
    "depth = 0\n",
    "for line in lines:\n",
    "    line_split = line.split(\" \")\n",
    "    if line_split[0] == \"forward\":\n",
    "        horizontal_position += int(line_split[1])\n",
    "    elif line_split[0] == \"up\":\n",
    "        depth -= int(line_split[1])\n",
    "    elif line_split[0] == \"down\":\n",
    "        depth += int(line_split[1])"
   ]
  },
  {
   "cell_type": "code",
   "execution_count": 5,
   "id": "11e3eb42",
   "metadata": {},
   "outputs": [
    {
     "name": "stdout",
     "output_type": "stream",
     "text": [
      "1989014\n"
     ]
    }
   ],
   "source": [
    "print(horizontal_position * depth)"
   ]
  },
  {
   "cell_type": "code",
   "execution_count": 6,
   "id": "27906f2b",
   "metadata": {},
   "outputs": [],
   "source": [
    "horizontal_position = 0\n",
    "depth = 0\n",
    "aim = 0\n",
    "for line in lines:\n",
    "    line_split = line.split(\" \")\n",
    "    if line_split[0] == \"forward\":\n",
    "        horizontal_position += int(line_split[1])\n",
    "        depth += aim * int(line_split[1])\n",
    "    elif line_split[0] == \"up\":\n",
    "        # depth -= int(line_split[1])\n",
    "        aim -= int(line_split[1])\n",
    "    elif line_split[0] == \"down\":\n",
    "        # depth += int(line_split[1])\n",
    "        aim += int(line_split[1])"
   ]
  },
  {
   "cell_type": "code",
   "execution_count": 7,
   "id": "acc3bd6e",
   "metadata": {},
   "outputs": [
    {
     "name": "stdout",
     "output_type": "stream",
     "text": [
      "2006917119\n"
     ]
    }
   ],
   "source": [
    "print(horizontal_position * depth)"
   ]
  },
  {
   "cell_type": "code",
   "execution_count": null,
   "id": "f7ef83ec",
   "metadata": {},
   "outputs": [],
   "source": []
  }
 ],
 "metadata": {
  "kernelspec": {
   "display_name": "Python 3",
   "language": "python",
   "name": "python3"
  },
  "language_info": {
   "codemirror_mode": {
    "name": "ipython",
    "version": 3
   },
   "file_extension": ".py",
   "mimetype": "text/x-python",
   "name": "python",
   "nbconvert_exporter": "python",
   "pygments_lexer": "ipython3",
   "version": "3.9.2"
  }
 },
 "nbformat": 4,
 "nbformat_minor": 5
}
